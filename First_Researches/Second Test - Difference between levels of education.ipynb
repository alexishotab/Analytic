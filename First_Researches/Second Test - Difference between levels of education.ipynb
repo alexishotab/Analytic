{
 "cells": [
  {
   "cell_type": "markdown",
   "id": "9f85a041",
   "metadata": {},
   "source": [
    "<b>Приветствую!</b> Это моё второе исследование\n",
    "\n",
    "Чтобы его провести, я буду использовать функционал Питона и его библиотек - Matplotlib, pandas, numpy,scipy,seaborn. Файл all_analytic_modules с подключенными библиотеками и методами статистики (дисперсии, T-тесты, визуализация и тд) поможет в моих исследованиях\n",
    "\n",
    "Ниже егое код, для наглядности работы:"
   ]
  },
  {
   "cell_type": "code",
   "execution_count": 48,
   "id": "0380a03f",
   "metadata": {},
   "outputs": [],
   "source": [
    "import pandas as pd\n",
    "import matplotlib.pyplot as plt\n",
    "from scipy import stats\n",
    "import numpy as np\n",
    "import seaborn as sns\n",
    "\n",
    "\n",
    "def mediana(sample):\n",
    "    return sample.median()\n",
    "\n",
    "\n",
    "def moda(sample):\n",
    "    return sample.mode()\n",
    "\n",
    "\n",
    "def avarage(sample):\n",
    "    \"\"\"\n",
    "    Mean of Data\n",
    "    \"\"\"\n",
    "    return sample.mean()\n",
    "\n",
    "\n",
    "def razmah(sample):\n",
    "    return max(sample) - min(sample)\n",
    "\n",
    "\n",
    "def D(sample):\n",
    "    \"\"\"\n",
    "    dispersion\n",
    "    \"\"\"\n",
    "    xsr = avarage(sample)\n",
    "    cnt = 0\n",
    "    for i in range(len(sample)):\n",
    "        cnt += (xsr - sample[i]) ** 2\n",
    "    return cnt / len(sample)\n",
    "\n",
    "\n",
    "def sigma(sample):\n",
    "    \"\"\"\n",
    "    standart deviation in general data\n",
    "    \"\"\"\n",
    "    return D(sample) ** 0.5\n",
    "\n",
    "\n",
    "def sd(sample):\n",
    "    \"\"\"\n",
    "    standart deviation in nongeneral data\n",
    "    \"\"\"\n",
    "    xsr = avarage(sample)\n",
    "    cnt = 0\n",
    "    for i in range(len(sample)):\n",
    "        cnt += (xsr - sample[i]) ** 2\n",
    "    d = cnt / (len(sample) - 1)\n",
    "    return d ** 0.5\n",
    "\n",
    "\n",
    "def se(sample):\n",
    "    \"\"\"\n",
    "    standart deviation. We change of sd and sigma\n",
    "    \"\"\"\n",
    "    if len(sample) > 30:\n",
    "        return sd(sample) / len(sample) ** 0.5\n",
    "    else:\n",
    "        return sigma(sample) / len(sample) ** 0.5\n",
    "\n",
    "\n",
    "def truerange():\n",
    "    \"\"\"\n",
    "    confidence interval\n",
    "    \"\"\"\n",
    "    print ('Введите стандартную ошибку (se):')\n",
    "    srednee = float(input())\n",
    "    print ('Введите вашe число:')\n",
    "    x = float(input())\n",
    "    print('Введите вашу последовательность в строку через пробел:')\n",
    "    data = np.array(list(map(int, input().split())))\n",
    "    xsr = sum(data) / len(data)\n",
    "    print (('Доверительный интервал = [' , round(xsr - 1.96 * srednee, 4), ' ', round(xsr + 1.96 * srednee, 4), ']'))\n",
    "    return (xsr - 1.96 * srednee, xsr + 1.96 * srednee)\n",
    "\n",
    "\n",
    "def veroyatnost_of_one_value_general(sample):\n",
    "    \"\"\"\n",
    "    probability of case in general data\n",
    "    \"\"\"\n",
    "    print ('Покажет, какой процент людей обладает нужным параметром')\n",
    "    mean = avarage(sample)\n",
    "    std = se(sample)\n",
    "    x = int(input( 'Введите значение' ))\n",
    "    # sf - Survival function = (1 - cdf) - Cumulative distribution function\n",
    "    return stats.norm(mean, std).sf(x) * 100\n",
    "\n",
    "\n",
    "def t_veroyatnost_of_one_value():\n",
    "    \"\"\"\n",
    "    probability of case in nongeneral data, len(data)<30\n",
    "    \"\"\"\n",
    "    print ('Введите вашу последовательность в строку через пробел:')\n",
    "    data = np.array(list(map(int, input().split())))\n",
    "    print('Введите предполагаемое среднее значение генеральной совокупности:')\n",
    "    u = float(input())\n",
    "    xsr = sum(data) / len(data)\n",
    "    df = len(data) - 1\n",
    "    t = (xsr - u) / se(data)\n",
    "    p = 2 * stats.t.sf(abs(t), df)\n",
    "    return p\n",
    "\n",
    "\n",
    "def t_test(sample1, sample2):\n",
    "    \"\"\"\n",
    "    checking the equality of the means in two samples\n",
    "    \"\"\"\n",
    "    sd1 = sd(sample1)\n",
    "    sd2 = sd(sample2)\n",
    "    SE = (sd1 ** 2 / len(sample1) + sd2 ** 2 / len(sample2)) ** 0.5\n",
    "    xsr1 = avarage(sample1)\n",
    "    xsr2 = avarage(sample2)\n",
    "    T = (xsr1 - xsr2) / SE\n",
    "    df = len(sample1) + len(sample2) - 2\n",
    "    DF = \\\n",
    "        pd.DataFrame({'Выборка1': sample1,\n",
    "                     'Выборка2': sample2}).agg(['mean'\n",
    "            , 'std', 'count', 'sem']).transpose()\n",
    "    DF.columns = ['Mx', 'SD', 'N', 'SE']\n",
    "    K = stats.t.ppf(0.975, DF['Mx'] - 1)\n",
    "    print (DF)\n",
    "    p = stats.t.sf(T, df)\n",
    "    print ('P-уровень значимости =',p)\n",
    "    if p >= 0.05:\n",
    "        print ('Мы не можем отклонить нулевую гипотезу')\n",
    "    else:\n",
    "        print ('Можем отклонить нулевую гипотезу')\n",
    "    DF['interval'] = K * DF['SE']\n",
    "    a = plt.boxplot([sample1, sample2], vert=True, patch_artist=True,\n",
    "                    labels=['Выборка 1'\n",
    "                    ,\n",
    "                    'Выборка 2'\n",
    "                    ])\n",
    "    plt.show()\n",
    "    b = plt.errorbar(\n",
    "        x=['Выборка 1'\n",
    "           ,\n",
    "           'Выборка 2'\n",
    "           ],\n",
    "        y=DF['Mx'],\n",
    "        yerr=DF['interval'],\n",
    "        capsize=3,\n",
    "        mfc='red',\n",
    "        mec='black',\n",
    "        fmt='o',\n",
    "        )\n",
    "    plt.show()\n",
    "    return p\n",
    "\n",
    "\n",
    "def histogramma(sample):\n",
    "    plt.hist(sample, bins=np.arange(min(sample), max(sample) + 1, 1))\n",
    "    plt.show()\n",
    "    plt.hist(sample, bins=np.arange(min(sample), max(sample) + 1, 1),\n",
    "             density=True)\n",
    "    plt.show()\n",
    "\n",
    "\n",
    "def Z_graph(sample):\n",
    "    \"\"\"\n",
    "    Z-change of general data graphic\n",
    "    \"\"\"\n",
    "    xsr = avarage(sample)\n",
    "    zmassive = []\n",
    "    for i in range(len(sample)):\n",
    "        z_value_i = (sample[i] - xsr) / sd(sample)\n",
    "        zmassive.append(z_value_i)\n",
    "    sns.histplot(data=sample, kde=True)\n",
    "    plt.show()\n",
    "    return zmassive\n",
    "\n",
    "\n",
    "def diagramma_boxplot(sample):\n",
    "    plt.boxplot(sample, showfliers=1)\n",
    "    plt.show()\n",
    "\n",
    "def allavarage(sample):\n",
    "    \"\"\"\n",
    "    one-way analysis of variance method to see mean of ALL data\n",
    "    \"\"\"\n",
    "    n=sample.size\n",
    "    cnt=0\n",
    "    a=sample.sum()\n",
    "    for i in a:\n",
    "        cnt+=i\n",
    "    return cnt/n\n",
    "\n",
    "def SST(sample):\n",
    "    \"\"\"\n",
    "    Sum of Squares Total\n",
    "    \"\"\"\n",
    "    cnt=0\n",
    "    xsr=allavarage(sample)\n",
    "    a=sample.to_numpy()\n",
    "    for i in range(len(a)):\n",
    "        for j in range(len(a[i])):\n",
    "            cnt+=((a[i][j]-xsr)**2)\n",
    "    DF=sample.size-1\n",
    "    return cnt\n",
    "\n",
    "def SSW(sample):\n",
    "    \"\"\"\n",
    "    Sum of Squares Within groups. Return SS, Degree of Freedom\n",
    "    \"\"\"\n",
    "    a=sample.to_numpy()\n",
    "    a=a.T\n",
    "    cnt=0\n",
    "    for i in range(len(a)):\n",
    "        xsr=sum(a[i])/len(a[i])\n",
    "        for j in range(len(a[i])):\n",
    "            cnt+=((a[i][j]-xsr)**2)\n",
    "    a=a.T\n",
    "    DF=sample.size-i-1\n",
    "    return cnt,DF\n",
    "\n",
    "def SSB(sample):\n",
    "    \"\"\"\n",
    "    Sum of Squares Between groups. Return SS, Degree of Freedom\n",
    "    \"\"\"\n",
    "    a=sample.to_numpy()\n",
    "    cnt=0\n",
    "    srednee=allavarage(sample)\n",
    "    a=a.T\n",
    "    for i in range(len(a)):\n",
    "        xsr=sum(a[i])/len(a[i])\n",
    "        cnt+=(len(a[i])*((xsr-srednee)**2))\n",
    "    a=a.T\n",
    "    DF=i\n",
    "    return cnt,DF\n",
    "\n",
    "def f_val(sample):\n",
    "    \"\"\"\n",
    "    Returns Value of F, Degree of Freedom Between, Degree of Freedom Within group\n",
    "    \"\"\"\n",
    "    q,w=SSB(sample)\n",
    "    o,i=SSW(sample)\n",
    "    f_v= (q/w)/(o/i)\n",
    "    return f_v, w,i\n",
    "\n",
    "def factor_dispersion_analys(sample):\n",
    "    \"\"\"\n",
    "    Returns P-value of F-test\n",
    "    \"\"\"\n",
    "    f_value,dfb,dfw= f_val(sample)\n",
    "    p=stats.f.sf(f_value,dfb,dfw)\n",
    "    return p"
   ]
  },
  {
   "cell_type": "markdown",
   "id": "d12cc871",
   "metadata": {},
   "source": [
    "Если мы используем другую среду разработки, мы сможем просто импортировать файл с помощью команды:"
   ]
  },
  {
   "cell_type": "code",
   "execution_count": 49,
   "id": "93ccc6cd",
   "metadata": {},
   "outputs": [],
   "source": [
    "import all_analytic_modules"
   ]
  },
  {
   "cell_type": "markdown",
   "id": "361b862b",
   "metadata": {},
   "source": [
    "Итак, начнем!\n",
    "\n",
    "Первым делом мы найдем наши цели! Допустим, мы хотим понять, есть ли различия в успешности сдачи экзаменов между студентами разных уровней образования (бакалавриат, школа и тд.)"
   ]
  },
  {
   "cell_type": "markdown",
   "id": "abaae54f",
   "metadata": {},
   "source": [
    "Для этого, придется собрать информацию о студентах. Но что конкретно собирать? Тут все просто - нам нужен уровень образования, сумма баллов за экзамены. Этот этап должен занимать продолжительное время, но мы воспользуемся готовым датасетом на сайте kaggle: 'Student Perfomans in Exams' https://www.kaggle.com/datasets/whenamancodes/students-performance-in-exams"
   ]
  },
  {
   "cell_type": "markdown",
   "id": "ca4b8bd7",
   "metadata": {},
   "source": [
    "71 килобайт данных - огромное количество непустых записей, гарантирует нам Нормальное распределение данных. А/A тест проводить не нужно, так как данные были собраны правильным путем еще за нас!"
   ]
  },
  {
   "cell_type": "markdown",
   "id": "95ca2e65",
   "metadata": {},
   "source": [
    "Итак, для начала, нужно преобразовать данные в тот формат, который будет удобен нам. Из таблицы с большим количеством информации выберем всего пару рядов - уровень образования и сумму баллов за 3 экзамена (получим путем сложения трем экзаменов):"
   ]
  },
  {
   "cell_type": "code",
   "execution_count": 50,
   "id": "90dd2b2d",
   "metadata": {},
   "outputs": [
    {
     "name": "stdout",
     "output_type": "stream",
     "text": [
      "     gender race/ethnicity parental level of education         lunch  \\\n",
      "0      male        group A                 high school      standard   \n",
      "1    female        group D            some high school  free/reduced   \n",
      "2      male        group E                some college  free/reduced   \n",
      "3      male        group B                 high school      standard   \n",
      "4      male        group E          associate's degree      standard   \n",
      "..      ...            ...                         ...           ...   \n",
      "995    male        group C                 high school      standard   \n",
      "996    male        group D          associate's degree  free/reduced   \n",
      "997  female        group C            some high school  free/reduced   \n",
      "998  female        group C                some college      standard   \n",
      "999    male        group A                some college      standard   \n",
      "\n",
      "    test preparation course  math score  reading score  writing score  \n",
      "0                 completed          67             67             63  \n",
      "1                      none          40             59             55  \n",
      "2                      none          59             60             50  \n",
      "3                      none          77             78             68  \n",
      "4                 completed          78             73             68  \n",
      "..                      ...         ...            ...            ...  \n",
      "995                    none          73             70             65  \n",
      "996               completed          85             91             92  \n",
      "997                    none          32             35             41  \n",
      "998                    none          73             74             82  \n",
      "999               completed          65             60             62  \n",
      "\n",
      "[1000 rows x 8 columns]\n",
      "\n"
     ]
    }
   ],
   "source": [
    "data = pd.read_csv('exams.csv')\n",
    "print(data)\n",
    "print()"
   ]
  },
  {
   "cell_type": "markdown",
   "id": "7551cbc4",
   "metadata": {},
   "source": [
    "А теперь преобразуем данные так, как нам нужно, убрав лишние столбцы"
   ]
  },
  {
   "cell_type": "code",
   "execution_count": 51,
   "id": "a82c743f",
   "metadata": {},
   "outputs": [
    {
     "data": {
      "text/html": [
       "<div>\n",
       "<style scoped>\n",
       "    .dataframe tbody tr th:only-of-type {\n",
       "        vertical-align: middle;\n",
       "    }\n",
       "\n",
       "    .dataframe tbody tr th {\n",
       "        vertical-align: top;\n",
       "    }\n",
       "\n",
       "    .dataframe thead th {\n",
       "        text-align: right;\n",
       "    }\n",
       "</style>\n",
       "<table border=\"1\" class=\"dataframe\">\n",
       "  <thead>\n",
       "    <tr style=\"text-align: right;\">\n",
       "      <th></th>\n",
       "      <th>parental level of education</th>\n",
       "      <th>math score</th>\n",
       "      <th>reading score</th>\n",
       "      <th>writing score</th>\n",
       "    </tr>\n",
       "  </thead>\n",
       "  <tbody>\n",
       "    <tr>\n",
       "      <th>0</th>\n",
       "      <td>high school</td>\n",
       "      <td>67</td>\n",
       "      <td>67</td>\n",
       "      <td>63</td>\n",
       "    </tr>\n",
       "    <tr>\n",
       "      <th>1</th>\n",
       "      <td>some high school</td>\n",
       "      <td>40</td>\n",
       "      <td>59</td>\n",
       "      <td>55</td>\n",
       "    </tr>\n",
       "    <tr>\n",
       "      <th>2</th>\n",
       "      <td>some college</td>\n",
       "      <td>59</td>\n",
       "      <td>60</td>\n",
       "      <td>50</td>\n",
       "    </tr>\n",
       "    <tr>\n",
       "      <th>3</th>\n",
       "      <td>high school</td>\n",
       "      <td>77</td>\n",
       "      <td>78</td>\n",
       "      <td>68</td>\n",
       "    </tr>\n",
       "    <tr>\n",
       "      <th>4</th>\n",
       "      <td>associate's degree</td>\n",
       "      <td>78</td>\n",
       "      <td>73</td>\n",
       "      <td>68</td>\n",
       "    </tr>\n",
       "    <tr>\n",
       "      <th>...</th>\n",
       "      <td>...</td>\n",
       "      <td>...</td>\n",
       "      <td>...</td>\n",
       "      <td>...</td>\n",
       "    </tr>\n",
       "    <tr>\n",
       "      <th>995</th>\n",
       "      <td>high school</td>\n",
       "      <td>73</td>\n",
       "      <td>70</td>\n",
       "      <td>65</td>\n",
       "    </tr>\n",
       "    <tr>\n",
       "      <th>996</th>\n",
       "      <td>associate's degree</td>\n",
       "      <td>85</td>\n",
       "      <td>91</td>\n",
       "      <td>92</td>\n",
       "    </tr>\n",
       "    <tr>\n",
       "      <th>997</th>\n",
       "      <td>some high school</td>\n",
       "      <td>32</td>\n",
       "      <td>35</td>\n",
       "      <td>41</td>\n",
       "    </tr>\n",
       "    <tr>\n",
       "      <th>998</th>\n",
       "      <td>some college</td>\n",
       "      <td>73</td>\n",
       "      <td>74</td>\n",
       "      <td>82</td>\n",
       "    </tr>\n",
       "    <tr>\n",
       "      <th>999</th>\n",
       "      <td>some college</td>\n",
       "      <td>65</td>\n",
       "      <td>60</td>\n",
       "      <td>62</td>\n",
       "    </tr>\n",
       "  </tbody>\n",
       "</table>\n",
       "<p>1000 rows × 4 columns</p>\n",
       "</div>"
      ],
      "text/plain": [
       "    parental level of education  math score  reading score  writing score\n",
       "0                   high school          67             67             63\n",
       "1              some high school          40             59             55\n",
       "2                  some college          59             60             50\n",
       "3                   high school          77             78             68\n",
       "4            associate's degree          78             73             68\n",
       "..                          ...         ...            ...            ...\n",
       "995                 high school          73             70             65\n",
       "996          associate's degree          85             91             92\n",
       "997            some high school          32             35             41\n",
       "998                some college          73             74             82\n",
       "999                some college          65             60             62\n",
       "\n",
       "[1000 rows x 4 columns]"
      ]
     },
     "execution_count": 51,
     "metadata": {},
     "output_type": "execute_result"
    }
   ],
   "source": [
    "data=data[[\"parental level of education\",'math score','reading score','writing score']]\n",
    "data"
   ]
  },
  {
   "cell_type": "markdown",
   "id": "218cf1be",
   "metadata": {},
   "source": [
    "Осталось объединить 3 ряда последних ряда в одну сумму , и все готово!"
   ]
  },
  {
   "cell_type": "code",
   "execution_count": 52,
   "id": "415712e2",
   "metadata": {},
   "outputs": [
    {
     "data": {
      "text/html": [
       "<div>\n",
       "<style scoped>\n",
       "    .dataframe tbody tr th:only-of-type {\n",
       "        vertical-align: middle;\n",
       "    }\n",
       "\n",
       "    .dataframe tbody tr th {\n",
       "        vertical-align: top;\n",
       "    }\n",
       "\n",
       "    .dataframe thead th {\n",
       "        text-align: right;\n",
       "    }\n",
       "</style>\n",
       "<table border=\"1\" class=\"dataframe\">\n",
       "  <thead>\n",
       "    <tr style=\"text-align: right;\">\n",
       "      <th></th>\n",
       "      <th>parental level of education</th>\n",
       "      <th>summa</th>\n",
       "    </tr>\n",
       "  </thead>\n",
       "  <tbody>\n",
       "    <tr>\n",
       "      <th>0</th>\n",
       "      <td>high school</td>\n",
       "      <td>197</td>\n",
       "    </tr>\n",
       "    <tr>\n",
       "      <th>1</th>\n",
       "      <td>some high school</td>\n",
       "      <td>154</td>\n",
       "    </tr>\n",
       "    <tr>\n",
       "      <th>2</th>\n",
       "      <td>some college</td>\n",
       "      <td>169</td>\n",
       "    </tr>\n",
       "    <tr>\n",
       "      <th>3</th>\n",
       "      <td>high school</td>\n",
       "      <td>223</td>\n",
       "    </tr>\n",
       "    <tr>\n",
       "      <th>4</th>\n",
       "      <td>associate's degree</td>\n",
       "      <td>219</td>\n",
       "    </tr>\n",
       "    <tr>\n",
       "      <th>...</th>\n",
       "      <td>...</td>\n",
       "      <td>...</td>\n",
       "    </tr>\n",
       "    <tr>\n",
       "      <th>995</th>\n",
       "      <td>high school</td>\n",
       "      <td>208</td>\n",
       "    </tr>\n",
       "    <tr>\n",
       "      <th>996</th>\n",
       "      <td>associate's degree</td>\n",
       "      <td>268</td>\n",
       "    </tr>\n",
       "    <tr>\n",
       "      <th>997</th>\n",
       "      <td>some high school</td>\n",
       "      <td>108</td>\n",
       "    </tr>\n",
       "    <tr>\n",
       "      <th>998</th>\n",
       "      <td>some college</td>\n",
       "      <td>229</td>\n",
       "    </tr>\n",
       "    <tr>\n",
       "      <th>999</th>\n",
       "      <td>some college</td>\n",
       "      <td>187</td>\n",
       "    </tr>\n",
       "  </tbody>\n",
       "</table>\n",
       "<p>1000 rows × 2 columns</p>\n",
       "</div>"
      ],
      "text/plain": [
       "    parental level of education  summa\n",
       "0                   high school    197\n",
       "1              some high school    154\n",
       "2                  some college    169\n",
       "3                   high school    223\n",
       "4            associate's degree    219\n",
       "..                          ...    ...\n",
       "995                 high school    208\n",
       "996          associate's degree    268\n",
       "997            some high school    108\n",
       "998                some college    229\n",
       "999                some college    187\n",
       "\n",
       "[1000 rows x 2 columns]"
      ]
     },
     "execution_count": 52,
     "metadata": {},
     "output_type": "execute_result"
    }
   ],
   "source": [
    "data['summa']=data['math score'] + data['reading score']+ data['writing score']\n",
    "data=data.drop(['math score','reading score','writing score'],axis='columns')\n",
    "da=data[:]\n",
    "data"
   ]
  },
  {
   "cell_type": "markdown",
   "id": "a7945302",
   "metadata": {},
   "source": [
    "Отлично - у нас есть все данные. Самое время <b>сформулировать гипотезы</b>:<p>\n",
    "\n",
    "<b>H0 - нулевая гипотеза</b> - Различий между группами нет<p>\n",
    "\n",
    "<b>H1- ненулевая гипотеза</b> - Существуют статистически важные различия между группами<p>\n",
    "\n",
    "<p>Для того, чтобы выбрать правильную гипотезу, мы можем пойти двумя различными путями:<br>\n",
    "-Использовать тест <b>\"T-критерий Стьюдента\"</b><br>\n",
    "    -Использовать <b>Однофакторный Дисперсионный анализ, или по-другому - F- test (Критерий Фишера)</b><br>\n",
    "    Мы возьмем <b>второй вариант</b></p>\n",
    "\n",
    "В основе идеи Теста фишера лежит то, что Чем больше различие между группами тем больше шанс получить ненулевую гипотезу гипотезу, то есть результат, что группы различны!<p>\n",
    "        Но перед стартом нужно оценить, какие вообще бывают степени в нашем списке:"
   ]
  },
  {
   "cell_type": "code",
   "execution_count": 53,
   "id": "7f166296",
   "metadata": {},
   "outputs": [
    {
     "data": {
      "text/plain": [
       "array(['high school', 'some high school', 'some college',\n",
       "       \"associate's degree\", \"bachelor's degree\", \"master's degree\"],\n",
       "      dtype=object)"
      ]
     },
     "execution_count": 53,
     "metadata": {},
     "output_type": "execute_result"
    }
   ],
   "source": [
    "uniquelevel = data[\"parental level of education\"].unique() \n",
    "uniquelevel"
   ]
  },
  {
   "cell_type": "markdown",
   "id": "a1c42f94",
   "metadata": {},
   "source": [
    "Всего есть 6 степеней в списке - 2 вида школ, колледж и 3 разных степени оконченного высшего"
   ]
  },
  {
   "cell_type": "markdown",
   "id": "94edbf16",
   "metadata": {},
   "source": [
    "Подготовим данные для данного теста. Разделим данные на группы по уровню образования, запишем их баллы в строки"
   ]
  },
  {
   "cell_type": "code",
   "execution_count": 54,
   "id": "217a1d1c",
   "metadata": {},
   "outputs": [
    {
     "data": {
      "text/html": [
       "<div>\n",
       "<style scoped>\n",
       "    .dataframe tbody tr th:only-of-type {\n",
       "        vertical-align: middle;\n",
       "    }\n",
       "\n",
       "    .dataframe tbody tr th {\n",
       "        vertical-align: top;\n",
       "    }\n",
       "\n",
       "    .dataframe thead th {\n",
       "        text-align: right;\n",
       "    }\n",
       "</style>\n",
       "<table border=\"1\" class=\"dataframe\">\n",
       "  <thead>\n",
       "    <tr style=\"text-align: right;\">\n",
       "      <th></th>\n",
       "      <th>0</th>\n",
       "      <th>3</th>\n",
       "      <th>5</th>\n",
       "      <th>8</th>\n",
       "      <th>11</th>\n",
       "      <th>13</th>\n",
       "      <th>16</th>\n",
       "      <th>25</th>\n",
       "      <th>27</th>\n",
       "      <th>28</th>\n",
       "      <th>...</th>\n",
       "      <th>868</th>\n",
       "      <th>881</th>\n",
       "      <th>895</th>\n",
       "      <th>912</th>\n",
       "      <th>929</th>\n",
       "      <th>934</th>\n",
       "      <th>959</th>\n",
       "      <th>961</th>\n",
       "      <th>967</th>\n",
       "      <th>982</th>\n",
       "    </tr>\n",
       "  </thead>\n",
       "  <tbody>\n",
       "    <tr>\n",
       "      <th>sch</th>\n",
       "      <td>197.0</td>\n",
       "      <td>223.0</td>\n",
       "      <td>216.0</td>\n",
       "      <td>184.0</td>\n",
       "      <td>257.0</td>\n",
       "      <td>221.0</td>\n",
       "      <td>147.0</td>\n",
       "      <td>138.0</td>\n",
       "      <td>199.0</td>\n",
       "      <td>252.0</td>\n",
       "      <td>...</td>\n",
       "      <td>NaN</td>\n",
       "      <td>NaN</td>\n",
       "      <td>NaN</td>\n",
       "      <td>NaN</td>\n",
       "      <td>NaN</td>\n",
       "      <td>NaN</td>\n",
       "      <td>NaN</td>\n",
       "      <td>NaN</td>\n",
       "      <td>NaN</td>\n",
       "      <td>NaN</td>\n",
       "    </tr>\n",
       "    <tr>\n",
       "      <th>ssc</th>\n",
       "      <td>NaN</td>\n",
       "      <td>NaN</td>\n",
       "      <td>NaN</td>\n",
       "      <td>NaN</td>\n",
       "      <td>NaN</td>\n",
       "      <td>NaN</td>\n",
       "      <td>NaN</td>\n",
       "      <td>NaN</td>\n",
       "      <td>NaN</td>\n",
       "      <td>NaN</td>\n",
       "      <td>...</td>\n",
       "      <td>NaN</td>\n",
       "      <td>NaN</td>\n",
       "      <td>NaN</td>\n",
       "      <td>NaN</td>\n",
       "      <td>NaN</td>\n",
       "      <td>NaN</td>\n",
       "      <td>NaN</td>\n",
       "      <td>NaN</td>\n",
       "      <td>NaN</td>\n",
       "      <td>NaN</td>\n",
       "    </tr>\n",
       "    <tr>\n",
       "      <th>col</th>\n",
       "      <td>NaN</td>\n",
       "      <td>NaN</td>\n",
       "      <td>NaN</td>\n",
       "      <td>NaN</td>\n",
       "      <td>NaN</td>\n",
       "      <td>NaN</td>\n",
       "      <td>NaN</td>\n",
       "      <td>NaN</td>\n",
       "      <td>NaN</td>\n",
       "      <td>NaN</td>\n",
       "      <td>...</td>\n",
       "      <td>NaN</td>\n",
       "      <td>NaN</td>\n",
       "      <td>NaN</td>\n",
       "      <td>NaN</td>\n",
       "      <td>NaN</td>\n",
       "      <td>NaN</td>\n",
       "      <td>NaN</td>\n",
       "      <td>NaN</td>\n",
       "      <td>NaN</td>\n",
       "      <td>NaN</td>\n",
       "    </tr>\n",
       "    <tr>\n",
       "      <th>asd</th>\n",
       "      <td>NaN</td>\n",
       "      <td>NaN</td>\n",
       "      <td>NaN</td>\n",
       "      <td>NaN</td>\n",
       "      <td>NaN</td>\n",
       "      <td>NaN</td>\n",
       "      <td>NaN</td>\n",
       "      <td>NaN</td>\n",
       "      <td>NaN</td>\n",
       "      <td>NaN</td>\n",
       "      <td>...</td>\n",
       "      <td>NaN</td>\n",
       "      <td>NaN</td>\n",
       "      <td>NaN</td>\n",
       "      <td>NaN</td>\n",
       "      <td>NaN</td>\n",
       "      <td>NaN</td>\n",
       "      <td>NaN</td>\n",
       "      <td>NaN</td>\n",
       "      <td>NaN</td>\n",
       "      <td>NaN</td>\n",
       "    </tr>\n",
       "    <tr>\n",
       "      <th>bcd</th>\n",
       "      <td>NaN</td>\n",
       "      <td>NaN</td>\n",
       "      <td>NaN</td>\n",
       "      <td>NaN</td>\n",
       "      <td>NaN</td>\n",
       "      <td>NaN</td>\n",
       "      <td>NaN</td>\n",
       "      <td>NaN</td>\n",
       "      <td>NaN</td>\n",
       "      <td>NaN</td>\n",
       "      <td>...</td>\n",
       "      <td>NaN</td>\n",
       "      <td>NaN</td>\n",
       "      <td>NaN</td>\n",
       "      <td>NaN</td>\n",
       "      <td>NaN</td>\n",
       "      <td>NaN</td>\n",
       "      <td>NaN</td>\n",
       "      <td>NaN</td>\n",
       "      <td>NaN</td>\n",
       "      <td>NaN</td>\n",
       "    </tr>\n",
       "    <tr>\n",
       "      <th>msd</th>\n",
       "      <td>NaN</td>\n",
       "      <td>NaN</td>\n",
       "      <td>NaN</td>\n",
       "      <td>NaN</td>\n",
       "      <td>NaN</td>\n",
       "      <td>NaN</td>\n",
       "      <td>NaN</td>\n",
       "      <td>NaN</td>\n",
       "      <td>NaN</td>\n",
       "      <td>NaN</td>\n",
       "      <td>...</td>\n",
       "      <td>180.0</td>\n",
       "      <td>267.0</td>\n",
       "      <td>244.0</td>\n",
       "      <td>182.0</td>\n",
       "      <td>218.0</td>\n",
       "      <td>199.0</td>\n",
       "      <td>258.0</td>\n",
       "      <td>257.0</td>\n",
       "      <td>283.0</td>\n",
       "      <td>220.0</td>\n",
       "    </tr>\n",
       "  </tbody>\n",
       "</table>\n",
       "<p>6 rows × 1000 columns</p>\n",
       "</div>"
      ],
      "text/plain": [
       "       0      3      5      8      11     13     16     25     27     28   \\\n",
       "sch  197.0  223.0  216.0  184.0  257.0  221.0  147.0  138.0  199.0  252.0   \n",
       "ssc    NaN    NaN    NaN    NaN    NaN    NaN    NaN    NaN    NaN    NaN   \n",
       "col    NaN    NaN    NaN    NaN    NaN    NaN    NaN    NaN    NaN    NaN   \n",
       "asd    NaN    NaN    NaN    NaN    NaN    NaN    NaN    NaN    NaN    NaN   \n",
       "bcd    NaN    NaN    NaN    NaN    NaN    NaN    NaN    NaN    NaN    NaN   \n",
       "msd    NaN    NaN    NaN    NaN    NaN    NaN    NaN    NaN    NaN    NaN   \n",
       "\n",
       "     ...    868    881    895    912    929    934    959    961    967    982  \n",
       "sch  ...    NaN    NaN    NaN    NaN    NaN    NaN    NaN    NaN    NaN    NaN  \n",
       "ssc  ...    NaN    NaN    NaN    NaN    NaN    NaN    NaN    NaN    NaN    NaN  \n",
       "col  ...    NaN    NaN    NaN    NaN    NaN    NaN    NaN    NaN    NaN    NaN  \n",
       "asd  ...    NaN    NaN    NaN    NaN    NaN    NaN    NaN    NaN    NaN    NaN  \n",
       "bcd  ...    NaN    NaN    NaN    NaN    NaN    NaN    NaN    NaN    NaN    NaN  \n",
       "msd  ...  180.0  267.0  244.0  182.0  218.0  199.0  258.0  257.0  283.0  220.0  \n",
       "\n",
       "[6 rows x 1000 columns]"
      ]
     },
     "execution_count": 54,
     "metadata": {},
     "output_type": "execute_result"
    }
   ],
   "source": [
    "highs=data[data[\"parental level of education\"] =='high school'][\"summa\"]\n",
    "somes=data[data[\"parental level of education\"] =='some high school'][\"summa\"]\n",
    "col=data[data[\"parental level of education\"] =='some college'][\"summa\"]\n",
    "assoc=data[data[\"parental level of education\"] ==\"associate's degree\"][\"summa\"]\n",
    "bachd=data[data[\"parental level of education\"] ==\"bachelor's degree\"][\"summa\"]\n",
    "magsd=data[data[\"parental level of education\"] == \"master's degree\"][\"summa\"]\n",
    "data= pd.DataFrame([highs,somes,col,assoc,bachd,magsd],index=['sch','ssc','col','asd','bcd','msd'])\n",
    "data"
   ]
  },
  {
   "cell_type": "markdown",
   "id": "f4a17164",
   "metadata": {},
   "source": [
    "1) Найдем <b>X среднее</b>, то есть среднее всех записей. Оно равно:"
   ]
  },
  {
   "cell_type": "code",
   "execution_count": 56,
   "id": "24e68b51",
   "metadata": {},
   "outputs": [],
   "source": [
    "srednee=sum(da['summa'])/1000"
   ]
  },
  {
   "cell_type": "code",
   "execution_count": 57,
   "id": "9da30d16",
   "metadata": {},
   "outputs": [
    {
     "data": {
      "text/plain": [
       "203.136"
      ]
     },
     "execution_count": 57,
     "metadata": {},
     "output_type": "execute_result"
    }
   ],
   "source": [
    "srednee"
   ]
  },
  {
   "cell_type": "markdown",
   "id": "e8760cdb",
   "metadata": {},
   "source": [
    "<b>x mean =203.136 балла</b>"
   ]
  },
  {
   "cell_type": "markdown",
   "id": "5d0f2811",
   "metadata": {},
   "source": [
    "2) Найдем <b>Sum of Square Between group:</b>"
   ]
  },
  {
   "cell_type": "code",
   "execution_count": 64,
   "id": "d3b13fc1",
   "metadata": {},
   "outputs": [
    {
     "data": {
      "text/plain": [
       "124681.77763630282"
      ]
     },
     "execution_count": 64,
     "metadata": {},
     "output_type": "execute_result"
    }
   ],
   "source": [
    "def SSB(sample: list) -> list:\n",
    "    \"\"\"\n",
    "    Sum of Squares Within groups. Return SS, Degree of Freedom\n",
    "    \"\"\"\n",
    "    a=sample.to_numpy()\n",
    "    cnt=0\n",
    "    srednee=203.136 #Укажем значение среднего\n",
    "    for i in range(len(a)):\n",
    "        mass=a[i]\n",
    "        mass = mass[~np.isnan(mass)]\n",
    "        xsr=sum(mass)/len(mass)\n",
    "        cnt+=(len(mass)*((xsr-srednee)**2))\n",
    "    DF=i\n",
    "    return cnt,DF\n",
    "\n",
    "ssb,dfb = SSB(data)\n",
    "ssb"
   ]
  },
  {
   "cell_type": "markdown",
   "id": "dc9edc32",
   "metadata": {},
   "source": [
    "<b>SSb и DFb = </b> 124681.77763630282 и 5 (число групп-1) соответственно "
   ]
  },
  {
   "cell_type": "markdown",
   "id": "9379fe99",
   "metadata": {},
   "source": [
    "3) Найдем <b>Sum of Square Within group:</b>"
   ]
  },
  {
   "cell_type": "code",
   "execution_count": 68,
   "id": "c641e578",
   "metadata": {},
   "outputs": [
    {
     "data": {
      "text/plain": [
       "1769391.7263636957"
      ]
     },
     "execution_count": 68,
     "metadata": {},
     "output_type": "execute_result"
    }
   ],
   "source": [
    "def SSW(sample: list) -> list:\n",
    "    \"\"\"\n",
    "    Sum of Squares Within groups. Return SS, Degree of Freedom\n",
    "    \"\"\"\n",
    "    a=sample.to_numpy()\n",
    "    cnt=0\n",
    "    DF=0\n",
    "    for i in range(len(a)):\n",
    "        mass=a[i]\n",
    "        mass = mass[~np.isnan(mass)]\n",
    "        xsr=sum(mass)/len(mass)\n",
    "        for j in range(len(mass)):\n",
    "            cnt+=((mass[j]-xsr)**2)\n",
    "        DF+=len(mass)\n",
    "    return cnt,DF-i-1\n",
    "ssw,dfw= SSW(data)\n",
    "ssw"
   ]
  },
  {
   "cell_type": "markdown",
   "id": "e6a7fbff",
   "metadata": {},
   "source": [
    "<b>SSw и DFw = </b> 1769391.7263636957 и 994(число записей-число групп) соответственно "
   ]
  },
  {
   "cell_type": "markdown",
   "id": "7c3cc416",
   "metadata": {},
   "source": [
    "4) <b>На данный момент мы имеем все, чтобы рассчитать F-Value:</b>. Сделаем же это:"
   ]
  },
  {
   "cell_type": "code",
   "execution_count": 69,
   "id": "ff80eedd",
   "metadata": {},
   "outputs": [
    {
     "data": {
      "text/plain": [
       "14.00862060378038"
      ]
     },
     "execution_count": 69,
     "metadata": {},
     "output_type": "execute_result"
    }
   ],
   "source": [
    "f_value= (ssb/dfb)/(ssw/dfw)\n",
    "f_value"
   ]
  },
  {
   "cell_type": "markdown",
   "id": "4a3fc126",
   "metadata": {},
   "source": [
    "<b> F-VALUE = 14.00862060378038 , DFb=6, DFw=994</b>"
   ]
  },
  {
   "cell_type": "markdown",
   "id": "4f9ecd48",
   "metadata": {},
   "source": [
    "5) Рассчитаем <b>P-VALUE</b>:"
   ]
  },
  {
   "cell_type": "code",
   "execution_count": 76,
   "id": "5ea07c7a",
   "metadata": {},
   "outputs": [
    {
     "data": {
      "text/plain": [
       "2.9571387494485776e-13"
      ]
     },
     "execution_count": 76,
     "metadata": {},
     "output_type": "execute_result"
    }
   ],
   "source": [
    "p=stats.f.sf(f_value,dfb,dfw)\n",
    "p"
   ]
  },
  {
   "cell_type": "markdown",
   "id": "dfb60887",
   "metadata": {},
   "source": [
    "<b> P-VALUE ПРИБЛИЗИТЕЛЬНО  РАВНО 0.000000000000296<p> И именно это позволяет нам с уверенностью отклонить нулевую гипотезу</b> Даже если учитывать \"поправку Бонферрони\", где в таком случае p должно быть меньше 0.0033 для статистической значимости"
   ]
  },
  {
   "cell_type": "markdown",
   "id": "b85b6f83",
   "metadata": {},
   "source": [
    "6) Значит, <b>существует статистически значимое различие</b> в сдаче экзаменов между людьми с разными уровнями образования, давайте взглянем на несколько графиков:"
   ]
  },
  {
   "cell_type": "code",
   "execution_count": 112,
   "id": "148a9f87",
   "metadata": {},
   "outputs": [
    {
     "data": {
      "image/png": "[encoded data removed]",
      "text/plain": [
       "<Figure size 640x480 with 1 Axes>"
      ]
     },
     "metadata": {},
     "output_type": "display_data"
    },
    {
     "data": {
      "image/png": "[encoded data removed]",
      "text/plain": [
       "<Figure size 640x480 with 1 Axes>"
      ]
     },
     "metadata": {},
     "output_type": "display_data"
    }
   ],
   "source": [
    "def visual(sample1, sample2,sample3,sample4,sample5,sample6):\n",
    "    \"\"\"\n",
    "    checking the equality of the means in two samples\n",
    "    \"\"\"\n",
    "\n",
    "    DF = \\\n",
    "        pd.DataFrame({'Выборка1': sample1,\n",
    "                     'Выборка2': sample2,\n",
    "                     'Выборка3': sample3,\n",
    "                     'Выборка4': sample4,\n",
    "                     'Выборка5': sample5,\n",
    "                     'Выборка6': sample6}).agg(['mean'\n",
    "            , 'std', 'count', 'sem']).transpose()\n",
    "    DF.columns = ['Mx', 'SD', 'N', 'SE']\n",
    "    K = stats.t.ppf(0.9916, DF['Mx'] - 1)\n",
    "    DF['interval'] = K * DF['SE']\n",
    "    DF\n",
    "    a = plt.boxplot([sample1, sample2,sample3,sample4,sample5,sample6], vert=True, patch_artist=True,\n",
    "                    labels=['шк1'\n",
    "                    ,\n",
    "                    'шк2'\n",
    "                    ,\n",
    "                    'клдж'\n",
    "                    ,\n",
    "                    'asc dg'\n",
    "                    ,\n",
    "                    'bach dg'\n",
    "                    ,\n",
    "                    'mag dg'\n",
    "                    ])\n",
    "    plt.title(\"График 1. Сравнение баллов за тесты с отображением выбросов\")\n",
    "    plt.ylabel(\"Суммарный балл за тесты\")\n",
    "    plt.grid()\n",
    "    plt.show()\n",
    "    b = plt.errorbar(\n",
    "        x=['школьники'\n",
    "           ,\n",
    "           'школьники 2'\n",
    "           ,\n",
    "           'колледж'\n",
    "           ,\n",
    "           'associate dg'\n",
    "           ,\n",
    "           'бакалавр'\n",
    "           ,\n",
    "           'магистр'\n",
    "           ],\n",
    "        y=DF['Mx'],\n",
    "        yerr=DF['interval'],\n",
    "        capsize=3,\n",
    "        mfc='red',\n",
    "        mec='black',\n",
    "        #fmt='o',\n",
    "        label='График',\n",
    "        marker=\"s\",\n",
    "        markersize=8\n",
    "        )\n",
    "    plt.title(\"График 2. Сравнение баллов за тесты с отображением доверительных интервалов\")\n",
    "    plt.ylabel(\"Суммарный балл за тесты\")\n",
    "    plt.grid()\n",
    "    plt.show()\n",
    "\n",
    "visual(highs,somes,col,assoc,bachd,magsd)"
   ]
  },
  {
   "cell_type": "code",
   "execution_count": 111,
   "id": "3c5240c1",
   "metadata": {},
   "outputs": [
    {
     "data": {
      "image/png": "[encoded data removed]",
      "text/plain": [
       "<Figure size 640x480 with 1 Axes>"
      ]
     },
     "metadata": {},
     "output_type": "display_data"
    },
    {
     "data": {
      "image/png": "[encoded data removed]",
      "text/plain": [
       "<Figure size 640x480 with 1 Axes>"
      ]
     },
     "metadata": {},
     "output_type": "display_data"
    }
   ],
   "source": [
    "plt.title(\"График 3. Распределение баллов в тесте\")\n",
    "plt.xlabel(\"Суммарный балл за тест\")\n",
    "plt.hist(da['summa'], bins=np.arange(min(da['summa']), max(da['summa']) + 1, 9))\n",
    "plt.show()\n",
    "plt.title(\"График 4. Частотное распределение каждого балла в тесте\")\n",
    "plt.ylabel(\"Частота встречи этого балла\")\n",
    "plt.xlabel(\"Суммарный балл за тест\")\n",
    "plt.hist(da['summa'], bins=np.arange(min(da['summa']), max(da['summa']) + 1, 1))\n",
    "plt.show()"
   ]
  },
  {
   "cell_type": "markdown",
   "id": "bead2f9d",
   "metadata": {},
   "source": [
    "7) <b>Выводы из графиков:</b>"
   ]
  },
  {
   "cell_type": "markdown",
   "id": "dc92596b",
   "metadata": {},
   "source": [
    "1. Если посмотреть на график 1, то по количеству выбросов видно, что чаще всего склонны заваливать экзамены школьники\n",
    "2. Самый большой размах у студентов колледжей (график 1)<p>\n",
    "Если смотреть на график 2, то можно заметить значимые различия между группами:<p>\n",
    "    3. Студентов высших учебных заведений и всех остальных(шруппа 5, 6 различна с группой 1,2,3)\n",
    "    4. Студентов с образованием Associate degree  и some school(группа 2 и группа 4)<p>\n",
    "        <i>P.S. Вроде как это верное сравнение, сделанное с помощью Критерия Тьюки, но я не уверен... Может это и неправильно, тем не менее, у представленных групп один доверительный интервал не пересекается с другим</i>\n",
    "5.Точно существует большое различие между студентами всех групп, вплоть до 20 баллов из 300\n",
    "6.Один из студентов набрал меньше 50 баллов, что довольно странно, стоит проверить данные на корректность"
   ]
  },
  {
   "cell_type": "markdown",
   "id": "b1945a5d",
   "metadata": {},
   "source": [
    "8) <b>Вывод :</b>"
   ]
  },
  {
   "cell_type": "markdown",
   "id": "b197f045",
   "metadata": {},
   "source": [
    "В результате проделанной работы <b>мы получили статистически значимые различия между успехом сдачей экзаменов людьми с разными уровнями образования"
   ]
  },
  {
   "cell_type": "markdown",
   "id": "b5b426cc",
   "metadata": {},
   "source": [
    "<b>Спасибо за внимание!</b>"
   ]
  },
  {
   "cell_type": "code",
   "execution_count": null,
   "id": "04b46018",
   "metadata": {},
   "outputs": [],
   "source": []
  }
 ],
 "metadata": {
  "kernelspec": {
   "display_name": "Python 3 (ipykernel)",
   "language": "python",
   "name": "python3"
  },
  "language_info": {
   "codemirror_mode": {
    "name": "ipython",
    "version": 3
   },
   "file_extension": ".py",
   "mimetype": "text/x-python",
   "name": "python",
   "nbconvert_exporter": "python",
   "pygments_lexer": "ipython3",
   "version": "3.9.12"
  }
 },
 "nbformat": 4,
 "nbformat_minor": 5
}
