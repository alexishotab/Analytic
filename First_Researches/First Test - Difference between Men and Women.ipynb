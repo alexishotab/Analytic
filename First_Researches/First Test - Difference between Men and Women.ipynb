{
 "cells": [
  {
   "cell_type": "code",
   "execution_count": 12,
   "id": "c135e9dd",
   "metadata": {},
   "outputs": [],
   "source": [
    "import all_analytic_modules"
   ]
  },
  {
   "cell_type": "markdown",
   "id": "8c515cf3",
   "metadata": {},
   "source": [
    "Приветствую! Это моё первое исследование"
   ]
  },
  {
   "cell_type": "markdown",
   "id": "7100a0a9",
   "metadata": {},
   "source": [
    "Чтобы его провести, я буду использовать функционал Питона и его библиотек - Matplotlib, pandas, numpy,scipy,seaborn.\n",
    "Импортируем файл All_analytic_modules с библиотеками и методами статистики (дисперсии, T-тесты, визуализация и тд)"
   ]
  },
  {
   "cell_type": "markdown",
   "id": "df27ad5e",
   "metadata": {},
   "source": [
    "Ниже ее код, для наглядности работы:"
   ]
  },
  {
   "cell_type": "code",
   "execution_count": 105,
   "id": "129d5eb5",
   "metadata": {},
   "outputs": [],
   "source": [
    "import pandas as pd\n",
    "import matplotlib.pyplot as plt\n",
    "from scipy import stats\n",
    "import numpy as np\n",
    "import seaborn as sns\n",
    "\n",
    "\n",
    "def mediana(sample):\n",
    "    return sample.median()\n",
    "\n",
    "\n",
    "def moda(sample):\n",
    "    return sample.mode()\n",
    "\n",
    "\n",
    "def avarage(sample):\n",
    "    \"\"\"\n",
    "    Mean of Data\n",
    "    \"\"\"\n",
    "    return sample.mean()\n",
    "\n",
    "\n",
    "def razmah(sample):\n",
    "    return max(sample) - min(sample)\n",
    "\n",
    "\n",
    "def D(sample):\n",
    "    \"\"\"\n",
    "    dispersion\n",
    "    \"\"\"\n",
    "    xsr = avarage(sample)\n",
    "    cnt = 0\n",
    "    for i in range(len(sample)):\n",
    "        cnt += (xsr - sample[i]) ** 2\n",
    "    return cnt / len(sample)\n",
    "\n",
    "\n",
    "def sigma(sample):\n",
    "    \"\"\"\n",
    "    standart deviation in general data\n",
    "    \"\"\"\n",
    "    return D(sample) ** 0.5\n",
    "\n",
    "\n",
    "def sd(sample):\n",
    "    \"\"\"\n",
    "    standart deviation in nongeneral data\n",
    "    \"\"\"\n",
    "    xsr = avarage(sample)\n",
    "    cnt = 0\n",
    "    for i in range(len(sample)):\n",
    "        cnt += (xsr - sample[i]) ** 2\n",
    "    d = cnt / (len(sample) - 1)\n",
    "    return d ** 0.5\n",
    "\n",
    "\n",
    "def se(sample):\n",
    "    \"\"\"\n",
    "    standart deviation. We change of sd and sigma\n",
    "    \"\"\"\n",
    "    if len(sample) > 30:\n",
    "        return sd(sample) / len(sample) ** 0.5\n",
    "    else:\n",
    "        return sigma(sample) / len(sample) ** 0.5\n",
    "\n",
    "\n",
    "def truerange():\n",
    "    \"\"\"\n",
    "    confidence interval\n",
    "    \"\"\"\n",
    "    print ('Введите стандартную ошибку (se):')\n",
    "    srednee = float(input())\n",
    "    print ('Введите вашe число:')\n",
    "    x = float(input())\n",
    "    print('Введите вашу последовательность в строку через пробел:')\n",
    "    data = np.array(list(map(int, input().split())))\n",
    "    xsr = sum(data) / len(data)\n",
    "    print (('Доверительный интервал = [' , round(xsr - 1.96 * srednee, 4), ' ', round(xsr + 1.96 * srednee, 4), ']'))\n",
    "    return (xsr - 1.96 * srednee, xsr + 1.96 * srednee)\n",
    "\n",
    "\n",
    "def veroyatnost_of_one_value_general(sample):\n",
    "    \"\"\"\n",
    "    probability of case in general data\n",
    "    \"\"\"\n",
    "    print ('Покажет, какой процент людей обладает нужным параметром')\n",
    "    mean = avarage(sample)\n",
    "    std = se(sample)\n",
    "    x = int(input( 'Введите значение' ))\n",
    "    # sf - Survival function = (1 - cdf) - Cumulative distribution function\n",
    "    return stats.norm(mean, std).sf(x) * 100\n",
    "\n",
    "\n",
    "def t_veroyatnost_of_one_value():\n",
    "    \"\"\"\n",
    "    probability of case in nongeneral data, len(data)<30\n",
    "    \"\"\"\n",
    "    print ('Введите вашу последовательность в строку через пробел:')\n",
    "    data = np.array(list(map(int, input().split())))\n",
    "    print('Введите предполагаемое среднее значение генеральной совокупности:')\n",
    "    u = float(input())\n",
    "    xsr = sum(data) / len(data)\n",
    "    df = len(data) - 1\n",
    "    t = (xsr - u) / se(data)\n",
    "    p = 2 * stats.t.sf(abs(t), df)\n",
    "    return p\n",
    "\n",
    "\n",
    "def t_test(sample1, sample2):\n",
    "    \"\"\"\n",
    "    checking the equality of the means in two samples\n",
    "    \"\"\"\n",
    "    sd1 = sd(sample1)\n",
    "    sd2 = sd(sample2)\n",
    "    SE = (sd1 ** 2 / len(sample1) + sd2 ** 2 / len(sample2)) ** 0.5\n",
    "    xsr1 = avarage(sample1)\n",
    "    xsr2 = avarage(sample2)\n",
    "    T = (xsr1 - xsr2) / SE\n",
    "    df = len(sample1) + len(sample2) - 2\n",
    "    DF = \\\n",
    "        pd.DataFrame({'Выборка1': sample1,\n",
    "                     'Выборка2': sample2}).agg(['mean'\n",
    "            , 'std', 'count', 'sem']).transpose()\n",
    "    DF.columns = ['Mx', 'SD', 'N', 'SE']\n",
    "    K = stats.t.ppf(0.975, DF['Mx'] - 1)\n",
    "    print (DF)\n",
    "    p = stats.t.sf(T, df)\n",
    "    print ('P-уровень значимости =',p)\n",
    "    if p >= 0.05:\n",
    "        print ('Мы не можем отклонить нулевую гипотезу')\n",
    "    else:\n",
    "        print ('Можем отклонить нулевую гипотезу')\n",
    "    DF['interval'] = K * DF['SE']\n",
    "    a = plt.boxplot([sample1, sample2], vert=True, patch_artist=True,\n",
    "                    labels=['Выборка 1'\n",
    "                    ,\n",
    "                    'Выборка 2'\n",
    "                    ])\n",
    "    plt.show()\n",
    "    b = plt.errorbar(\n",
    "        x=['Выборка 1'\n",
    "           ,\n",
    "           'Выборка 2'\n",
    "           ],\n",
    "        y=DF['Mx'],\n",
    "        yerr=DF['interval'],\n",
    "        capsize=3,\n",
    "        mfc='red',\n",
    "        mec='black',\n",
    "        fmt='o',\n",
    "        )\n",
    "    plt.show()\n",
    "    return p\n",
    "\n",
    "\n",
    "def histogramma(sample):\n",
    "    plt.hist(sample, bins=np.arange(min(sample), max(sample) + 1, 1))\n",
    "    plt.show()\n",
    "    plt.hist(sample, bins=np.arange(min(sample), max(sample) + 1, 1),\n",
    "             density=True)\n",
    "    plt.show()\n",
    "\n",
    "\n",
    "def Z_graph(sample):\n",
    "    \"\"\"\n",
    "    Z-change of general data graphic\n",
    "    \"\"\"\n",
    "    xsr = avarage(sample)\n",
    "    zmassive = []\n",
    "    for i in range(len(sample)):\n",
    "        z_value_i = (sample[i] - xsr) / sd(sample)\n",
    "        zmassive.append(z_value_i)\n",
    "    sns.histplot(data=sample, kde=True)\n",
    "    plt.show()\n",
    "    return zmassive\n",
    "\n",
    "\n",
    "def diagramma_boxplot(sample):\n",
    "    plt.boxplot(sample, showfliers=1)\n",
    "    plt.show()\n",
    "\n",
    "def allavarage(sample):\n",
    "    \"\"\"\n",
    "    one-way analysis of variance method to see mean of ALL data\n",
    "    \"\"\"\n",
    "    n=sample.size\n",
    "    cnt=0\n",
    "    a=sample.sum()\n",
    "    for i in a:\n",
    "        cnt+=i\n",
    "    return cnt/n\n",
    "\n",
    "def SST(sample):\n",
    "    \"\"\"\n",
    "    Sum of Squares Total\n",
    "    \"\"\"\n",
    "    cnt=0\n",
    "    xsr=allavarage(sample)\n",
    "    a=sample.to_numpy()\n",
    "    for i in range(len(a)):\n",
    "        for j in range(len(a[i])):\n",
    "            cnt+=((a[i][j]-xsr)**2)\n",
    "    DF=sample.size-1\n",
    "    return cnt\n",
    "\n",
    "def SSW(sample):\n",
    "    \"\"\"\n",
    "    Sum of Squares Within groups. Return SS, Degree of Freedom\n",
    "    \"\"\"\n",
    "    a=sample.to_numpy()\n",
    "    a=a.T\n",
    "    cnt=0\n",
    "    for i in range(len(a)):\n",
    "        xsr=sum(a[i])/len(a[i])\n",
    "        for j in range(len(a[i])):\n",
    "            cnt+=((a[i][j]-xsr)**2)\n",
    "    a=a.T\n",
    "    DF=sample.size-i-1\n",
    "    return cnt,DF\n",
    "\n",
    "def SSB(sample):\n",
    "    \"\"\"\n",
    "    Sum of Squares Between groups. Return SS, Degree of Freedom\n",
    "    \"\"\"\n",
    "    a=sample.to_numpy()\n",
    "    cnt=0\n",
    "    srednee=allavarage(sample)\n",
    "    a=a.T\n",
    "    for i in range(len(a)):\n",
    "        xsr=sum(a[i])/len(a[i])\n",
    "        cnt+=(len(a[i])*((xsr-srednee)**2))\n",
    "    a=a.T\n",
    "    DF=i\n",
    "    return cnt,DF\n",
    "\n",
    "def f_val(sample):\n",
    "    \"\"\"\n",
    "    Returns Value of F, Degree of Freedom Between, Degree of Freedom Within group\n",
    "    \"\"\"\n",
    "    q,w=SSB(sample)\n",
    "    o,i=SSW(sample)\n",
    "    f_v= (q/w)/(o/i)\n",
    "    return f_v, w,i\n",
    "\n",
    "def factor_dispersion_analys(sample):\n",
    "    \"\"\"\n",
    "    Returns P-value of F-test\n",
    "    \"\"\"\n",
    "    f_value,dfb,dfw= f_val(sample)\n",
    "    p=stats.f.sf(f_value,dfb,dfw)\n",
    "    return p"
   ]
  },
  {
   "cell_type": "markdown",
   "id": "25b0e657",
   "metadata": {},
   "source": [
    "Итак, начнем!"
   ]
  },
  {
   "cell_type": "markdown",
   "id": "5f67dd5a",
   "metadata": {},
   "source": [
    "Первым делом мы <b>найдем наши цели</b>! Допустим, мы хотим понять, есть ли различия в успешности сдачи экзаменов между Мужчинами и Женщинами. Я взял этот тест для начала, так как в нем всего лишь 2 группы"
   ]
  },
  {
   "cell_type": "markdown",
   "id": "a17ab20a",
   "metadata": {},
   "source": [
    "Для этого, придется собрать информацию о студентах. Но что конкретно собирать? Тут все просто - нам нужен пол, сумма баллов за экзамены.\n",
    "Этот этап должен занимать продолжительное время, но мы воспользуемся готовым датасетом на сайте kaggle: 'Student Perfomans in Exams' https://www.kaggle.com/datasets/whenamancodes/students-performance-in-exams"
   ]
  },
  {
   "cell_type": "markdown",
   "id": "fc7f6ce6",
   "metadata": {},
   "source": [
    "71 килобайт данных - огромное количество непустых записей, гарантирует нам Нормальное распределение данных, поэтому A/A тест проводить не нужно (еще и потому что группа студентов одна и та же - студенты)"
   ]
  },
  {
   "cell_type": "markdown",
   "id": "6b09f753",
   "metadata": {},
   "source": [
    "Итак, для начала, нужно <b>преобразовать данные в тот формат, который будет удобен нам</b>. Из таблицы с большим количеством информации выберем всего пару рядов - пол и сумму баллов за 3 экзамена (получим путем сложения трем экзаменов):"
   ]
  },
  {
   "cell_type": "code",
   "execution_count": 252,
   "id": "6dd3aa61",
   "metadata": {},
   "outputs": [
    {
     "name": "stdout",
     "output_type": "stream",
     "text": [
      "     gender race/ethnicity parental level of education         lunch  \\\n",
      "0      male        group A                 high school      standard   \n",
      "1    female        group D            some high school  free/reduced   \n",
      "2      male        group E                some college  free/reduced   \n",
      "3      male        group B                 high school      standard   \n",
      "4      male        group E          associate's degree      standard   \n",
      "..      ...            ...                         ...           ...   \n",
      "995    male        group C                 high school      standard   \n",
      "996    male        group D          associate's degree  free/reduced   \n",
      "997  female        group C            some high school  free/reduced   \n",
      "998  female        group C                some college      standard   \n",
      "999    male        group A                some college      standard   \n",
      "\n",
      "    test preparation course  math score  reading score  writing score  \n",
      "0                 completed          67             67             63  \n",
      "1                      none          40             59             55  \n",
      "2                      none          59             60             50  \n",
      "3                      none          77             78             68  \n",
      "4                 completed          78             73             68  \n",
      "..                      ...         ...            ...            ...  \n",
      "995                    none          73             70             65  \n",
      "996               completed          85             91             92  \n",
      "997                    none          32             35             41  \n",
      "998                    none          73             74             82  \n",
      "999               completed          65             60             62  \n",
      "\n",
      "[1000 rows x 8 columns]\n",
      "\n"
     ]
    }
   ],
   "source": [
    "data = pd.read_csv('exams.csv')\n",
    "print(data)\n",
    "print()"
   ]
  },
  {
   "cell_type": "markdown",
   "id": "32baf4c0",
   "metadata": {},
   "source": [
    "А теперь преобразуем данные так, как нам нужно, убрав лишние столбцы"
   ]
  },
  {
   "cell_type": "code",
   "execution_count": 119,
   "id": "99c84355",
   "metadata": {},
   "outputs": [
    {
     "data": {
      "text/html": [
       "<div>\n",
       "<style scoped>\n",
       "    .dataframe tbody tr th:only-of-type {\n",
       "        vertical-align: middle;\n",
       "    }\n",
       "\n",
       "    .dataframe tbody tr th {\n",
       "        vertical-align: top;\n",
       "    }\n",
       "\n",
       "    .dataframe thead th {\n",
       "        text-align: right;\n",
       "    }\n",
       "</style>\n",
       "<table border=\"1\" class=\"dataframe\">\n",
       "  <thead>\n",
       "    <tr style=\"text-align: right;\">\n",
       "      <th></th>\n",
       "      <th>gender</th>\n",
       "      <th>math score</th>\n",
       "      <th>reading score</th>\n",
       "      <th>writing score</th>\n",
       "    </tr>\n",
       "  </thead>\n",
       "  <tbody>\n",
       "    <tr>\n",
       "      <th>0</th>\n",
       "      <td>male</td>\n",
       "      <td>67</td>\n",
       "      <td>67</td>\n",
       "      <td>63</td>\n",
       "    </tr>\n",
       "    <tr>\n",
       "      <th>1</th>\n",
       "      <td>female</td>\n",
       "      <td>40</td>\n",
       "      <td>59</td>\n",
       "      <td>55</td>\n",
       "    </tr>\n",
       "    <tr>\n",
       "      <th>2</th>\n",
       "      <td>male</td>\n",
       "      <td>59</td>\n",
       "      <td>60</td>\n",
       "      <td>50</td>\n",
       "    </tr>\n",
       "    <tr>\n",
       "      <th>3</th>\n",
       "      <td>male</td>\n",
       "      <td>77</td>\n",
       "      <td>78</td>\n",
       "      <td>68</td>\n",
       "    </tr>\n",
       "    <tr>\n",
       "      <th>4</th>\n",
       "      <td>male</td>\n",
       "      <td>78</td>\n",
       "      <td>73</td>\n",
       "      <td>68</td>\n",
       "    </tr>\n",
       "    <tr>\n",
       "      <th>...</th>\n",
       "      <td>...</td>\n",
       "      <td>...</td>\n",
       "      <td>...</td>\n",
       "      <td>...</td>\n",
       "    </tr>\n",
       "    <tr>\n",
       "      <th>995</th>\n",
       "      <td>male</td>\n",
       "      <td>73</td>\n",
       "      <td>70</td>\n",
       "      <td>65</td>\n",
       "    </tr>\n",
       "    <tr>\n",
       "      <th>996</th>\n",
       "      <td>male</td>\n",
       "      <td>85</td>\n",
       "      <td>91</td>\n",
       "      <td>92</td>\n",
       "    </tr>\n",
       "    <tr>\n",
       "      <th>997</th>\n",
       "      <td>female</td>\n",
       "      <td>32</td>\n",
       "      <td>35</td>\n",
       "      <td>41</td>\n",
       "    </tr>\n",
       "    <tr>\n",
       "      <th>998</th>\n",
       "      <td>female</td>\n",
       "      <td>73</td>\n",
       "      <td>74</td>\n",
       "      <td>82</td>\n",
       "    </tr>\n",
       "    <tr>\n",
       "      <th>999</th>\n",
       "      <td>male</td>\n",
       "      <td>65</td>\n",
       "      <td>60</td>\n",
       "      <td>62</td>\n",
       "    </tr>\n",
       "  </tbody>\n",
       "</table>\n",
       "<p>1000 rows × 4 columns</p>\n",
       "</div>"
      ],
      "text/plain": [
       "     gender  math score  reading score  writing score\n",
       "0      male          67             67             63\n",
       "1    female          40             59             55\n",
       "2      male          59             60             50\n",
       "3      male          77             78             68\n",
       "4      male          78             73             68\n",
       "..      ...         ...            ...            ...\n",
       "995    male          73             70             65\n",
       "996    male          85             91             92\n",
       "997  female          32             35             41\n",
       "998  female          73             74             82\n",
       "999    male          65             60             62\n",
       "\n",
       "[1000 rows x 4 columns]"
      ]
     },
     "execution_count": 119,
     "metadata": {},
     "output_type": "execute_result"
    }
   ],
   "source": [
    "data=data[['gender','math score','reading score','writing score']]\n",
    "data"
   ]
  },
  {
   "cell_type": "markdown",
   "id": "08c5744c",
   "metadata": {},
   "source": [
    "Осталось объединить 3 ряда последних ряда в одну сумму , и все готово!"
   ]
  },
  {
   "cell_type": "code",
   "execution_count": 140,
   "id": "1eb980cf",
   "metadata": {},
   "outputs": [
    {
     "data": {
      "text/html": [
       "<div>\n",
       "<style scoped>\n",
       "    .dataframe tbody tr th:only-of-type {\n",
       "        vertical-align: middle;\n",
       "    }\n",
       "\n",
       "    .dataframe tbody tr th {\n",
       "        vertical-align: top;\n",
       "    }\n",
       "\n",
       "    .dataframe thead th {\n",
       "        text-align: right;\n",
       "    }\n",
       "</style>\n",
       "<table border=\"1\" class=\"dataframe\">\n",
       "  <thead>\n",
       "    <tr style=\"text-align: right;\">\n",
       "      <th></th>\n",
       "      <th>gender</th>\n",
       "      <th>summa</th>\n",
       "    </tr>\n",
       "  </thead>\n",
       "  <tbody>\n",
       "    <tr>\n",
       "      <th>0</th>\n",
       "      <td>male</td>\n",
       "      <td>197</td>\n",
       "    </tr>\n",
       "    <tr>\n",
       "      <th>1</th>\n",
       "      <td>female</td>\n",
       "      <td>154</td>\n",
       "    </tr>\n",
       "    <tr>\n",
       "      <th>2</th>\n",
       "      <td>male</td>\n",
       "      <td>169</td>\n",
       "    </tr>\n",
       "    <tr>\n",
       "      <th>3</th>\n",
       "      <td>male</td>\n",
       "      <td>223</td>\n",
       "    </tr>\n",
       "    <tr>\n",
       "      <th>4</th>\n",
       "      <td>male</td>\n",
       "      <td>219</td>\n",
       "    </tr>\n",
       "    <tr>\n",
       "      <th>...</th>\n",
       "      <td>...</td>\n",
       "      <td>...</td>\n",
       "    </tr>\n",
       "    <tr>\n",
       "      <th>995</th>\n",
       "      <td>male</td>\n",
       "      <td>208</td>\n",
       "    </tr>\n",
       "    <tr>\n",
       "      <th>996</th>\n",
       "      <td>male</td>\n",
       "      <td>268</td>\n",
       "    </tr>\n",
       "    <tr>\n",
       "      <th>997</th>\n",
       "      <td>female</td>\n",
       "      <td>108</td>\n",
       "    </tr>\n",
       "    <tr>\n",
       "      <th>998</th>\n",
       "      <td>female</td>\n",
       "      <td>229</td>\n",
       "    </tr>\n",
       "    <tr>\n",
       "      <th>999</th>\n",
       "      <td>male</td>\n",
       "      <td>187</td>\n",
       "    </tr>\n",
       "  </tbody>\n",
       "</table>\n",
       "<p>1000 rows × 2 columns</p>\n",
       "</div>"
      ],
      "text/plain": [
       "     gender  summa\n",
       "0      male    197\n",
       "1    female    154\n",
       "2      male    169\n",
       "3      male    223\n",
       "4      male    219\n",
       "..      ...    ...\n",
       "995    male    208\n",
       "996    male    268\n",
       "997  female    108\n",
       "998  female    229\n",
       "999    male    187\n",
       "\n",
       "[1000 rows x 2 columns]"
      ]
     },
     "execution_count": 140,
     "metadata": {},
     "output_type": "execute_result"
    }
   ],
   "source": [
    "data = pd.read_csv('exams.csv')\n",
    "data=data[['gender','math score','reading score','writing score']]\n",
    "data['summa']=data['math score'] + data['reading score']+ data['writing score']\n",
    "data=data.drop(['math score','reading score','writing score'],axis='columns')\n",
    "data"
   ]
  },
  {
   "cell_type": "markdown",
   "id": "46b649bf",
   "metadata": {},
   "source": [
    "Отлично - у нас есть все данные. Самое время <b>сформулировать гипотезы</b>:"
   ]
  },
  {
   "cell_type": "markdown",
   "id": "4367e7bc",
   "metadata": {},
   "source": [
    "<b>H0 - нулевая гипотеза</b> - Различий между группами нет"
   ]
  },
  {
   "cell_type": "markdown",
   "id": "0492e28f",
   "metadata": {},
   "source": [
    "<b>H1- ненулевая гипотеза</b> - Существуют статистически важные различия между группами"
   ]
  },
  {
   "cell_type": "markdown",
   "id": "43dc3b70",
   "metadata": {},
   "source": [
    "<p>Для того, чтобы выбрать правильную гипотезу, мы можем пойти двумя различными путями:<br>\n",
    "-Использовать тест <b>\"T-критерий Стьюдента\"</b><br>\n",
    "    -Использовать <b>Однофакторный Дисперсионный анализ, или по-другому - F- test (Критерий Фишера)</b><br>\n",
    "    Мы возьмем <b>второй вариант</b></p>"
   ]
  },
  {
   "cell_type": "markdown",
   "id": "063fbd63",
   "metadata": {},
   "source": [
    "В основе идеи Теста фишера лежит то, что Чем больше различие между группами тем больше шанс получить ненулевую гипотезу гипотезу, то есть результат, что группы различны!<p>\n",
    "    Подготовим данные для данного теста. Разделим данные на группу мужчин и группу женщин, запишем их баллы в строки:"
   ]
  },
  {
   "cell_type": "code",
   "execution_count": 176,
   "id": "df42ae54",
   "metadata": {},
   "outputs": [
    {
     "data": {
      "text/html": [
       "<div>\n",
       "<style scoped>\n",
       "    .dataframe tbody tr th:only-of-type {\n",
       "        vertical-align: middle;\n",
       "    }\n",
       "\n",
       "    .dataframe tbody tr th {\n",
       "        vertical-align: top;\n",
       "    }\n",
       "\n",
       "    .dataframe thead th {\n",
       "        text-align: right;\n",
       "    }\n",
       "</style>\n",
       "<table border=\"1\" class=\"dataframe\">\n",
       "  <thead>\n",
       "    <tr style=\"text-align: right;\">\n",
       "      <th></th>\n",
       "      <th>0</th>\n",
       "      <th>2</th>\n",
       "      <th>3</th>\n",
       "      <th>4</th>\n",
       "      <th>7</th>\n",
       "      <th>8</th>\n",
       "      <th>9</th>\n",
       "      <th>10</th>\n",
       "      <th>12</th>\n",
       "      <th>13</th>\n",
       "      <th>...</th>\n",
       "      <th>976</th>\n",
       "      <th>977</th>\n",
       "      <th>979</th>\n",
       "      <th>980</th>\n",
       "      <th>984</th>\n",
       "      <th>988</th>\n",
       "      <th>991</th>\n",
       "      <th>993</th>\n",
       "      <th>997</th>\n",
       "      <th>998</th>\n",
       "    </tr>\n",
       "  </thead>\n",
       "  <tbody>\n",
       "    <tr>\n",
       "      <th>male</th>\n",
       "      <td>197.0</td>\n",
       "      <td>169.0</td>\n",
       "      <td>223.0</td>\n",
       "      <td>219.0</td>\n",
       "      <td>265.0</td>\n",
       "      <td>184.0</td>\n",
       "      <td>134.0</td>\n",
       "      <td>267.0</td>\n",
       "      <td>249.0</td>\n",
       "      <td>221.0</td>\n",
       "      <td>...</td>\n",
       "      <td>NaN</td>\n",
       "      <td>NaN</td>\n",
       "      <td>NaN</td>\n",
       "      <td>NaN</td>\n",
       "      <td>NaN</td>\n",
       "      <td>NaN</td>\n",
       "      <td>NaN</td>\n",
       "      <td>NaN</td>\n",
       "      <td>NaN</td>\n",
       "      <td>NaN</td>\n",
       "    </tr>\n",
       "    <tr>\n",
       "      <th>female</th>\n",
       "      <td>NaN</td>\n",
       "      <td>NaN</td>\n",
       "      <td>NaN</td>\n",
       "      <td>NaN</td>\n",
       "      <td>NaN</td>\n",
       "      <td>NaN</td>\n",
       "      <td>NaN</td>\n",
       "      <td>NaN</td>\n",
       "      <td>NaN</td>\n",
       "      <td>NaN</td>\n",
       "      <td>...</td>\n",
       "      <td>95.0</td>\n",
       "      <td>174.0</td>\n",
       "      <td>190.0</td>\n",
       "      <td>138.0</td>\n",
       "      <td>209.0</td>\n",
       "      <td>232.0</td>\n",
       "      <td>268.0</td>\n",
       "      <td>170.0</td>\n",
       "      <td>108.0</td>\n",
       "      <td>229.0</td>\n",
       "    </tr>\n",
       "  </tbody>\n",
       "</table>\n",
       "<p>2 rows × 1000 columns</p>\n",
       "</div>"
      ],
      "text/plain": [
       "          0      2      3      4      7      8      9      10     12     13   \\\n",
       "male    197.0  169.0  223.0  219.0  265.0  184.0  134.0  267.0  249.0  221.0   \n",
       "female    NaN    NaN    NaN    NaN    NaN    NaN    NaN    NaN    NaN    NaN   \n",
       "\n",
       "        ...   976    977    979    980    984    988    991    993    997  \\\n",
       "male    ...   NaN    NaN    NaN    NaN    NaN    NaN    NaN    NaN    NaN   \n",
       "female  ...  95.0  174.0  190.0  138.0  209.0  232.0  268.0  170.0  108.0   \n",
       "\n",
       "          998  \n",
       "male      NaN  \n",
       "female  229.0  \n",
       "\n",
       "[2 rows x 1000 columns]"
      ]
     },
     "execution_count": 176,
     "metadata": {},
     "output_type": "execute_result"
    }
   ],
   "source": [
    "data = pd.read_csv('exams.csv')\n",
    "data=data[['gender','math score','reading score','writing score']]\n",
    "data['summa']=data['math score'] + data['reading score']+ data['writing score']\n",
    "data=data.drop(['math score','reading score','writing score'],axis='columns')\n",
    "\n",
    "men=data[data.gender ==\"male\"][\"summa\"]\n",
    "women=data[data.gender ==\"female\"][\"summa\"]\n",
    "data= pd.DataFrame([men,women],index=['male','female'])\n",
    "data"
   ]
  },
  {
   "cell_type": "markdown",
   "id": "d7b3f644",
   "metadata": {},
   "source": [
    "1) Найдем <b>X среднее</b>, то есть среднее всех записей. Оно равно:"
   ]
  },
  {
   "cell_type": "code",
   "execution_count": 189,
   "id": "58f8ee35",
   "metadata": {},
   "outputs": [
    {
     "data": {
      "text/plain": [
       "203.136"
      ]
     },
     "execution_count": 189,
     "metadata": {},
     "output_type": "execute_result"
    }
   ],
   "source": [
    "srednee=(103255 +99881)/1000 \n",
    "srednee"
   ]
  },
  {
   "cell_type": "markdown",
   "id": "4e3bfeb1",
   "metadata": {},
   "source": [
    "<b>x mean =203.136 балла</b>"
   ]
  },
  {
   "cell_type": "markdown",
   "id": "d4dd5896",
   "metadata": {},
   "source": [
    "2) Найдем <b>Sum of Square Between group:</b>"
   ]
  },
  {
   "cell_type": "code",
   "execution_count": 217,
   "id": "c9017003",
   "metadata": {},
   "outputs": [
    {
     "name": "stdout",
     "output_type": "stream",
     "text": [
      "<class 'numpy.ndarray'>\n",
      "<class 'numpy.ndarray'>\n"
     ]
    },
    {
     "data": {
      "text/plain": [
       "12493.87524515942"
      ]
     },
     "execution_count": 217,
     "metadata": {},
     "output_type": "execute_result"
    }
   ],
   "source": [
    "def SSB(sample: list) -> list:\n",
    "    \"\"\"\n",
    "    Sum of Squares Within groups. Return SS, Degree of Freedom\n",
    "    \"\"\"\n",
    "    a=sample.to_numpy()\n",
    "    cnt=0\n",
    "    srednee=203.136 #Укажем значение среднего\n",
    "    for i in range(len(a)):\n",
    "        mass=a[i]\n",
    "        mass = mass[~np.isnan(mass)]\n",
    "        xsr=sum(mass)/len(mass)\n",
    "        cnt+=(len(mass)*((xsr-srednee)**2))\n",
    "    DF=i\n",
    "    return cnt,DF\n",
    "\n",
    "ssb,dfb = SSB(data)\n",
    "ssb"
   ]
  },
  {
   "cell_type": "markdown",
   "id": "cd33bb6b",
   "metadata": {},
   "source": [
    "<b>SSb и DFb = </b> 12493.87524515942 и 1 соответственно "
   ]
  },
  {
   "cell_type": "markdown",
   "id": "838673ee",
   "metadata": {},
   "source": [
    "3) Найдем <b>Sum of Square Within group:</b>"
   ]
  },
  {
   "cell_type": "code",
   "execution_count": 223,
   "id": "58b9f957",
   "metadata": {},
   "outputs": [
    {
     "data": {
      "text/plain": [
       "1881579.628754838"
      ]
     },
     "execution_count": 223,
     "metadata": {},
     "output_type": "execute_result"
    }
   ],
   "source": [
    "def SSW(sample: list) -> list:\n",
    "    \"\"\"\n",
    "    Sum of Squares Within groups. Return SS, Degree of Freedom\n",
    "    \"\"\"\n",
    "    a=sample.to_numpy()\n",
    "    cnt=0\n",
    "    DF=0\n",
    "    for i in range(len(a)):\n",
    "        mass=a[i]\n",
    "        mass = mass[~np.isnan(mass)]\n",
    "        xsr=sum(mass)/len(mass)\n",
    "        for j in range(len(mass)):\n",
    "            cnt+=((mass[j]-xsr)**2)\n",
    "        DF+=len(mass)\n",
    "    return cnt,DF-i-1\n",
    "ssw,dfw= SSW(data)\n",
    "ssw"
   ]
  },
  {
   "cell_type": "markdown",
   "id": "09db81e2",
   "metadata": {},
   "source": [
    "<b>SSw и DFw = </b> 1881579.628754838 и 998 соответственно "
   ]
  },
  {
   "cell_type": "markdown",
   "id": "047cccda",
   "metadata": {},
   "source": [
    "4) <b>На данный момент мы имеем все, чтобы рассчитать F-Value:</b>. Сделаем же это:"
   ]
  },
  {
   "cell_type": "code",
   "execution_count": 226,
   "id": "0ba154ad",
   "metadata": {},
   "outputs": [
    {
     "data": {
      "text/plain": [
       "6.626818926032147"
      ]
     },
     "execution_count": 226,
     "metadata": {},
     "output_type": "execute_result"
    }
   ],
   "source": [
    "f_value= (ssb/dfb)/(ssw/dfw)\n",
    "f_value"
   ]
  },
  {
   "cell_type": "markdown",
   "id": "386e1326",
   "metadata": {},
   "source": [
    "<b> F-VALUE = 6.626818926032147 , DFb=1, DFw=998</b>"
   ]
  },
  {
   "cell_type": "markdown",
   "id": "8b509244",
   "metadata": {},
   "source": [
    "5) Рассчитаем <b>P-VALUE</b>:"
   ]
  },
  {
   "cell_type": "code",
   "execution_count": 228,
   "id": "379eb57e",
   "metadata": {},
   "outputs": [
    {
     "data": {
      "text/plain": [
       "0.010188670909791553"
      ]
     },
     "execution_count": 228,
     "metadata": {},
     "output_type": "execute_result"
    }
   ],
   "source": [
    "p=stats.f.sf(f_value,dfb,dfw)\n",
    "p"
   ]
  },
  {
   "cell_type": "markdown",
   "id": "8ce4fcd9",
   "metadata": {},
   "source": [
    "<b> P-VALUE ПРИБЛИЗИТЕЛЬНО  РАВНО 0.0102<p> И именно это позволяет нам с уверенностью отклонить нулевую гипотезу</b>"
   ]
  },
  {
   "cell_type": "markdown",
   "id": "fff0c6d3",
   "metadata": {},
   "source": [
    "6) Значит, <b>существует статистически значимое различие</b> в сдаче экзаменов между Мужчинами и женщинами, давайте взглянем на несколько графиков:"
   ]
  },
  {
   "cell_type": "code",
   "execution_count": 248,
   "id": "33cfb07d",
   "metadata": {},
   "outputs": [
    {
     "data": {
      "image/png": "[encoded data removed]",
      "text/plain": [
       "<Figure size 640x480 with 1 Axes>"
      ]
     },
     "metadata": {},
     "output_type": "display_data"
    },
    {
     "data": {
      "image/png": "[encoded data removed]",
      "text/plain": [
       "<Figure size 640x480 with 1 Axes>"
      ]
     },
     "metadata": {},
     "output_type": "display_data"
    }
   ],
   "source": [
    "def visual(sample1, sample2):\n",
    "    \"\"\"\n",
    "    checking the equality of the means in two samples\n",
    "    \"\"\"\n",
    "\n",
    "    DF = \\\n",
    "        pd.DataFrame({'Выборка1': sample1,\n",
    "                     'Выборка2': sample2}).agg(['mean'\n",
    "            , 'std', 'count', 'sem']).transpose()\n",
    "    DF.columns = ['Mx', 'SD', 'N', 'SE']\n",
    "    K = stats.t.ppf(0.975, DF['Mx'] - 1)\n",
    "    DF['interval'] = K * DF['SE']\n",
    "    DF\n",
    "    a = plt.boxplot([sample1, sample2], vert=True, patch_artist=True,\n",
    "                    labels=['балл мужчин'\n",
    "                    ,\n",
    "                    'балл женщин'\n",
    "                    ])\n",
    "    plt.title(\"График 1. Сравнение баллов за тесты с отображением выбросов\")\n",
    "    plt.ylabel(\"Суммарный балл за тесты\")\n",
    "    plt.grid()\n",
    "    plt.show()\n",
    "    b = plt.errorbar(\n",
    "        x=['балл мужчин'\n",
    "           ,\n",
    "           'балл женщин'\n",
    "           ],\n",
    "        y=DF['Mx'],\n",
    "        yerr=DF['interval'],\n",
    "        capsize=3,\n",
    "        mfc='red',\n",
    "        mec='black',\n",
    "        #fmt='o',\n",
    "        label='График',\n",
    "        marker=\"s\",\n",
    "        markersize=8\n",
    "        )\n",
    "    plt.title(\"График 2. Сравнение баллов за тесты с отображением доверительных интервалов\")\n",
    "    plt.ylabel(\"Суммарный балл за тесты\")\n",
    "    plt.grid()\n",
    "    plt.show()\n",
    "    \n",
    "\n",
    "visual(men,women)"
   ]
  },
  {
   "cell_type": "markdown",
   "id": "04781582",
   "metadata": {},
   "source": [
    "Если обратить внимание на график 2, то можно отчетливо заметить разницу в баллах. <b>Женщины, в среднем, пишут экзамен лучше на почти 8 баллов, чем мужчины</b> (199 и 207 баллов соответственно).<p> <b>Это подтверждает теорию о том, что 2 наши группы различны, соответственно полученная нами теория H1, наиболее вероятно, является верной.</b> И это даже с учетому у женщин двух выбросов (см. График 1), которые могли бы испортить данные. Но у нас много записей, поэтому они сильно не влияют"
   ]
  },
  {
   "cell_type": "markdown",
   "id": "4726fa55",
   "metadata": {},
   "source": [
    "7) <b>Вывод :</b>"
   ]
  },
  {
   "cell_type": "markdown",
   "id": "c78a5b41",
   "metadata": {},
   "source": [
    "В результате проделанной работы <b>мы получили статистически значимые различия между успехом сдачей экзаменов мужчинами и женщинами.</b><p> Женщины, в среднем, пишут экзамены лучше чем мужчины (примерно на 8 баллов).<p> Средний тестовый балл приблизительно равен 203 балла <p> А 50% сдающих экзамен укладываются в диапазон ~175-237 баллов"
   ]
  },
  {
   "cell_type": "markdown",
   "id": "8f9bf1d0",
   "metadata": {},
   "source": [
    "8)<b>А где это вообще можно применить? Зачем была эта работа?</b>"
   ]
  },
  {
   "cell_type": "markdown",
   "id": "fadd3333",
   "metadata": {},
   "source": [
    "Хоть работа и учебная и всего лишь первая на моем счету, но по ней все равно можно сделать выводы.<p> Допустим исследование бы проводилось не в иностранном гос-ве, а в России, и полученные результаты мы отразим на ЕГЭ.<p>\n",
    "    Даже в таком случае, полученным данным найдется применение. Например, яндекс запускал программу поддержки студентов, сдавших егэ на 270+ баллов. Если бы мы взяли за основу не 270, а 200 баллов, то:<p> Нам бы следовало выбирать условия акции, которые смогут больше заинтересовать женский пол. Так бы мы привлекли больше потенциальных клиентов. Если ввести много условностей, конечно (например, одинаковое кол-во сдающих экзамены и тд)"
   ]
  },
  {
   "cell_type": "markdown",
   "id": "93481cec",
   "metadata": {},
   "source": [
    "<b>Спасибо за внимание!</b>"
   ]
  },
  {
   "cell_type": "code",
   "execution_count": null,
   "id": "7cf90a9f",
   "metadata": {},
   "outputs": [],
   "source": []
  }
 ],
 "metadata": {
  "kernelspec": {
   "display_name": "Python 3 (ipykernel)",
   "language": "python",
   "name": "python3"
  },
  "language_info": {
   "codemirror_mode": {
    "name": "ipython",
    "version": 3
   },
   "file_extension": ".py",
   "mimetype": "text/x-python",
   "name": "python",
   "nbconvert_exporter": "python",
   "pygments_lexer": "ipython3",
   "version": "3.9.12"
  }
 },
 "nbformat": 4,
 "nbformat_minor": 5
}
